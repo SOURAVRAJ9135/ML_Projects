{
 "cells": [
  {
   "cell_type": "markdown",
   "id": "956addfb",
   "metadata": {},
   "source": [
    "applying all machine learning model on the dataset and getting the best model\n"
   ]
  },
  {
   "cell_type": "code",
   "execution_count": null,
   "id": "2b2fe8cc",
   "metadata": {},
   "outputs": [],
   "source": []
  }
 ],
 "metadata": {
  "language_info": {
   "name": "python"
  }
 },
 "nbformat": 4,
 "nbformat_minor": 5
}
